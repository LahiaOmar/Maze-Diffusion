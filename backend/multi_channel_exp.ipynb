{
 "cells": [
  {
   "cell_type": "code",
   "execution_count": 14,
   "metadata": {},
   "outputs": [],
   "source": [
    "import json\n",
    "import numpy as np\n",
    "import matplotlib.pyplot as plt"
   ]
  },
  {
   "cell_type": "code",
   "execution_count": 3,
   "metadata": {},
   "outputs": [],
   "source": [
    "def read_json_dataset(path: str):\n",
    "  with open(path, 'r') as f:\n",
    "    data = json.load(f)\n",
    "  return data "
   ]
  },
  {
   "cell_type": "code",
   "execution_count": 18,
   "metadata": {},
   "outputs": [
    {
     "data": {
      "text/plain": [
       "10000"
      ]
     },
     "execution_count": 18,
     "metadata": {},
     "output_type": "execute_result"
    }
   ],
   "source": [
    "dataset_path = './mock/mazes.json'\n",
    "data = read_json_dataset(dataset_path)\n",
    "len(data)\n"
   ]
  },
  {
   "cell_type": "code",
   "execution_count": null,
   "metadata": {},
   "outputs": [],
   "source": []
  },
  {
   "cell_type": "code",
   "execution_count": 36,
   "metadata": {},
   "outputs": [],
   "source": [
    "def maze_to_tensor(maze, solution, startAndEnd):\n",
    "  \n",
    "  return np.stack([maze, startAndEnd, solution])"
   ]
  },
  {
   "cell_type": "code",
   "execution_count": 39,
   "metadata": {},
   "outputs": [],
   "source": [
    "def dataset_to_tensor(dataset):\n",
    "  dataset_to_tensors = []\n",
    "  for i in range(len(dataset)):\n",
    "    current = dataset[i]\n",
    "    maze = current['maze']\n",
    "    startAndEnd = current['startAndEnd']\n",
    "    solution = current['solution']\n",
    "\n",
    "    maze_tensor = maze_to_tensor(maze, solution, startAndEnd)\n",
    "    dataset_to_tensors.append(maze_tensor)\n",
    "  \n",
    "  return dataset_to_tensors"
   ]
  },
  {
   "cell_type": "code",
   "execution_count": 44,
   "metadata": {},
   "outputs": [],
   "source": [
    "data_tensor_format = dataset_to_tensor(data)"
   ]
  },
  {
   "cell_type": "code",
   "execution_count": null,
   "metadata": {},
   "outputs": [],
   "source": []
  }
 ],
 "metadata": {
  "kernelspec": {
   "display_name": "maze-diffusion",
   "language": "python",
   "name": "python3"
  },
  "language_info": {
   "codemirror_mode": {
    "name": "ipython",
    "version": 3
   },
   "file_extension": ".py",
   "mimetype": "text/x-python",
   "name": "python",
   "nbconvert_exporter": "python",
   "pygments_lexer": "ipython3",
   "version": "3.12.9"
  }
 },
 "nbformat": 4,
 "nbformat_minor": 2
}
